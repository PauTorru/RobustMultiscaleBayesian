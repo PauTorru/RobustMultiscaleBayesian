{
 "cells": [
  {
   "cell_type": "markdown",
   "id": "ff5d5dc6-2bab-4ada-bd90-7c1ffcae663d",
   "metadata": {},
   "source": [
    "The library heavily relies on the ESPM and SUNSAL libraries for several calculations.\n",
    "See:\n",
    "\n",
    "https://github.com/Laadr/SUNSAL\n",
    "\n",
    "https://github.com/adriente/espm"
   ]
  },
  {
   "cell_type": "code",
   "execution_count": 1,
   "id": "b3a6e630-5592-41a3-a9dd-dcdf57dfe263",
   "metadata": {},
   "outputs": [
    {
     "ename": "NameError",
     "evalue": "name 'RMB' is not defined",
     "output_type": "error",
     "traceback": [
      "\u001b[1;31m---------------------------------------------------------------------------\u001b[0m",
      "\u001b[1;31mNameError\u001b[0m                                 Traceback (most recent call last)",
      "Cell \u001b[1;32mIn[1], line 1\u001b[0m\n\u001b[1;32m----> 1\u001b[0m importlib\u001b[38;5;241m.\u001b[39mreload(RMB)\n",
      "\u001b[1;31mNameError\u001b[0m: name 'RMB' is not defined"
     ]
    }
   ],
   "source": [
    "importlib.reload(RMB)"
   ]
  },
  {
   "cell_type": "code",
   "execution_count": 1,
   "id": "46e0bb53-e348-40bf-82d4-18d664e4b94b",
   "metadata": {},
   "outputs": [],
   "source": [
    "import RMB.RMB as RMB\n",
    "import espm"
   ]
  },
  {
   "cell_type": "code",
   "execution_count": 1,
   "id": "f97fa941-9348-4f7c-a0cb-da7247c7e32b",
   "metadata": {},
   "outputs": [],
   "source": [
    "s = hs.load(\"sample_0.hspy\")\n",
    "s.change_dtype(\"float\")"
   ]
  },
  {
   "cell_type": "code",
   "execution_count": 3,
   "id": "50eb4457-f76f-4f99-b106-d70f3a65cff7",
   "metadata": {},
   "outputs": [],
   "source": [
    "s.plot()"
   ]
  },
  {
   "cell_type": "code",
   "execution_count": 4,
   "id": "dcec2baf-10e3-489a-a398-3c747fa6e962",
   "metadata": {},
   "outputs": [
    {
     "data": {
      "text/plain": [
       "['Cu', 'La', 'V', 'O']"
      ]
     },
     "execution_count": 4,
     "metadata": {},
     "output_type": "execute_result"
    }
   ],
   "source": [
    "#s.add_elements(['Cu', 'La', 'V', 'O']) # add elements if necessary\n",
    "s.metadata.Sample.elements"
   ]
  },
  {
   "cell_type": "code",
   "execution_count": 5,
   "id": "616474ec-6037-4fcb-8ab6-f591fa384c1d",
   "metadata": {},
   "outputs": [],
   "source": [
    "#s.set_signal_type(\"EDS_espm\")\n",
    "#s.set_additional_parameters() # espm setup"
   ]
  },
  {
   "cell_type": "code",
   "execution_count": 4,
   "id": "607bb252-d669-4615-b947-f279c3e43bc9",
   "metadata": {},
   "outputs": [],
   "source": [
    "s.build_G() # Generates endmembers for each element and Bremsstrahlung background"
   ]
  },
  {
   "cell_type": "code",
   "execution_count": 4,
   "id": "7b5da808-7762-41bb-bbd3-0d47766bb422",
   "metadata": {},
   "outputs": [],
   "source": [
    "s.sum((0,1)).plot()"
   ]
  },
  {
   "cell_type": "code",
   "execution_count": 5,
   "id": "fbfe041f-c820-45b9-8351-179ff289c8ea",
   "metadata": {},
   "outputs": [
    {
     "name": "stdout",
     "output_type": "stream",
     "text": [
      "Generating multiscale\n",
      "Done\n",
      "Calculating Neighbours\n",
      "Done\n",
      "BMS calculation\n",
      "1 / 6\n",
      "2 / 6\n",
      "3 / 6\n",
      "4 / 6\n",
      "5 / 6\n",
      "6 / 6\n"
     ]
    }
   ],
   "source": [
    "maps, uncertainty = RMB.get_RMB_maps(s,[1,3,5],iter_max=2)"
   ]
  },
  {
   "cell_type": "code",
   "execution_count": 24,
   "id": "061ba2d9-d0ee-4281-a538-4d7488b65e50",
   "metadata": {},
   "outputs": [],
   "source": [
    "%matplotlib inline"
   ]
  },
  {
   "cell_type": "code",
   "execution_count": 8,
   "id": "c36d8cb3-99c2-4232-ac8c-42446278122c",
   "metadata": {},
   "outputs": [
    {
     "name": "stdout",
     "output_type": "stream",
     "text": [
      "(64, 64, 6)\n",
      "(64, 64, 6)\n"
     ]
    }
   ],
   "source": [
    "print(maps.shape)\n",
    "print(uncertainty.shape)\n",
    "# Last two images correspond Bremsstrahlung background estimation\n",
    "# to obtain atomic % divide by maps[:-2].sum(-1)"
   ]
  },
  {
   "cell_type": "code",
   "execution_count": 7,
   "id": "cfbb64ae-ad5b-4bfe-ba89-1ebb8e892c19",
   "metadata": {},
   "outputs": [],
   "source": [
    "plt.clf()\n",
    "\n",
    "for i in range(4):\n",
    "    el = s.metadata.Sample.elements[i]\n",
    "    ax = plt.subplot(2,4,i+1)\n",
    "    plt.imshow(maps[...,i])\n",
    "    ax.set_title(\"Abundance of {}\".format(el))\n",
    "\n",
    "    ax2 = plt.subplot(2,4,5+i)\n",
    "    plt.imshow(uncertainty[...,i])\n",
    "    ax2.set_title(\"uncertainty of {}\".format(el))\n",
    "\n",
    "plt.tight_layout()"
   ]
  },
  {
   "cell_type": "code",
   "execution_count": 9,
   "id": "043ce9b9-93ed-4c9a-84a8-c3ac71a58429",
   "metadata": {},
   "outputs": [],
   "source": [
    "hs.signals.Signal1D(model.data+1j*s.data).plot()"
   ]
  },
  {
   "cell_type": "code",
   "execution_count": 8,
   "id": "655462b9-00a1-4643-bb96-bf1601687baf",
   "metadata": {},
   "outputs": [],
   "source": [
    "#lets check if our model is reasonable:\n",
    "model = RMB.build_RMB_model(s,maps,s.G())\n",
    "model.plot()"
   ]
  },
  {
   "cell_type": "code",
   "execution_count": 10,
   "id": "da568b7d-61a0-44e4-a149-f2ee8cae6a51",
   "metadata": {},
   "outputs": [
    {
     "data": {
      "text/plain": [
       "[<matplotlib.lines.Line2D at 0x119666dc590>]"
      ]
     },
     "execution_count": 10,
     "metadata": {},
     "output_type": "execute_result"
    }
   ],
   "source": [
    "plt.clf()\n",
    "\n",
    "#i=np.random.randint(low=0,high=s.data.shape[0])\n",
    "#j=np.random.randint(low=0,high=s.data.shape[1])\n",
    "\n",
    "plt.plot(s.axes_manager[-1].axis,model.data.sum((0,1)))\n",
    "plt.plot(s.axes_manager[-1].axis,s.data.sum((0,1)))\n",
    "\n"
   ]
  }
 ],
 "metadata": {
  "kernelspec": {
   "display_name": "Python 3 (ipykernel)",
   "language": "python",
   "name": "python3"
  },
  "language_info": {
   "codemirror_mode": {
    "name": "ipython",
    "version": 3
   },
   "file_extension": ".py",
   "mimetype": "text/x-python",
   "name": "python",
   "nbconvert_exporter": "python",
   "pygments_lexer": "ipython3",
   "version": "3.11.7"
  }
 },
 "nbformat": 4,
 "nbformat_minor": 5
}
